{
 "cells": [
  {
   "cell_type": "code",
   "execution_count": 1,
   "id": "9ec298d2",
   "metadata": {},
   "outputs": [
    {
     "data": {
      "application/vnd.jupyter.widget-view+json": {
       "model_id": "e37386dee32148f7837913e27e68d60d",
       "version_major": 2,
       "version_minor": 0
      },
      "text/plain": [
       "VBox()"
      ]
     },
     "metadata": {},
     "output_type": "display_data"
    },
    {
     "name": "stdout",
     "output_type": "stream",
     "text": [
      "Starting Spark application\n"
     ]
    },
    {
     "data": {
      "text/html": [
       "<table>\n",
       "<tr><th>ID</th><th>YARN Application ID</th><th>Kind</th><th>State</th><th>Spark UI</th><th>Driver log</th><th>Current session?</th></tr><tr><td>0</td><td>application_1681141723257_0001</td><td>pyspark</td><td>idle</td><td><a target=\"_blank\" href=\"http://ip-10-0-10-160.ec2.internal:20888/proxy/application_1681141723257_0001/\" class=\"emr-proxy-link\" emr-resource=\"j-3OZS90LNYGV7L\n",
       "\" application-id=\"application_1681141723257_0001\">Link</a></td><td><a target=\"_blank\" href=\"http://ip-10-0-10-61.ec2.internal:8042/node/containerlogs/container_1681141723257_0001_01_000001/livy\" >Link</a></td><td>✔</td></tr></table>"
      ],
      "text/plain": [
       "<IPython.core.display.HTML object>"
      ]
     },
     "metadata": {},
     "output_type": "display_data"
    },
    {
     "data": {
      "application/vnd.jupyter.widget-view+json": {
       "model_id": "",
       "version_major": 2,
       "version_minor": 0
      },
      "text/plain": [
       "FloatProgress(value=0.0, bar_style='info', description='Progress:', layout=Layout(height='25px', width='50%'),…"
      ]
     },
     "metadata": {},
     "output_type": "display_data"
    },
    {
     "name": "stdout",
     "output_type": "stream",
     "text": [
      "SparkSession available as 'spark'.\n"
     ]
    },
    {
     "data": {
      "application/vnd.jupyter.widget-view+json": {
       "model_id": "",
       "version_major": 2,
       "version_minor": 0
      },
      "text/plain": [
       "FloatProgress(value=0.0, bar_style='info', description='Progress:', layout=Layout(height='25px', width='50%'),…"
      ]
     },
     "metadata": {},
     "output_type": "display_data"
    }
   ],
   "source": [
    "import sys\n",
    "import time\n",
    "from pyspark.sql import SparkSession\n",
    "from pyspark.sql.functions import *\n",
    "from pyspark.sql.types import *"
   ]
  },
  {
   "cell_type": "code",
   "execution_count": 2,
   "id": "a37d1691",
   "metadata": {},
   "outputs": [
    {
     "data": {
      "application/vnd.jupyter.widget-view+json": {
       "model_id": "376ee43079b04fe6ae690b6b10e3571d",
       "version_major": 2,
       "version_minor": 0
      },
      "text/plain": [
       "VBox()"
      ]
     },
     "metadata": {},
     "output_type": "display_data"
    },
    {
     "data": {
      "application/vnd.jupyter.widget-view+json": {
       "model_id": "",
       "version_major": 2,
       "version_minor": 0
      },
      "text/plain": [
       "FloatProgress(value=0.0, bar_style='info', description='Progress:', layout=Layout(height='25px', width='50%'),…"
      ]
     },
     "metadata": {},
     "output_type": "display_data"
    }
   ],
   "source": [
    "spark = SparkSession.builder.appName('stock-summary').getOrCreate()"
   ]
  },
  {
   "cell_type": "code",
   "execution_count": 4,
   "id": "10f5d945",
   "metadata": {},
   "outputs": [
    {
     "data": {
      "application/vnd.jupyter.widget-view+json": {
       "model_id": "b5fe6d3a1e1249aa8874b964c00d1111",
       "version_major": 2,
       "version_minor": 0
      },
      "text/plain": [
       "VBox()"
      ]
     },
     "metadata": {},
     "output_type": "display_data"
    },
    {
     "data": {
      "application/vnd.jupyter.widget-view+json": {
       "model_id": "",
       "version_major": 2,
       "version_minor": 0
      },
      "text/plain": [
       "FloatProgress(value=0.0, bar_style='info', description='Progress:', layout=Layout(height='25px', width='50%'),…"
      ]
     },
     "metadata": {},
     "output_type": "display_data"
    }
   ],
   "source": [
    "databucket = \"databucket-us-east-1-407925949\""
   ]
  },
  {
   "cell_type": "code",
   "execution_count": 5,
   "id": "7623a4a9",
   "metadata": {},
   "outputs": [
    {
     "data": {
      "application/vnd.jupyter.widget-view+json": {
       "model_id": "a5bb5614b9f741068446b1e3c2465354",
       "version_major": 2,
       "version_minor": 0
      },
      "text/plain": [
       "VBox()"
      ]
     },
     "metadata": {},
     "output_type": "display_data"
    },
    {
     "data": {
      "application/vnd.jupyter.widget-view+json": {
       "model_id": "",
       "version_major": 2,
       "version_minor": 0
      },
      "text/plain": [
       "FloatProgress(value=0.0, bar_style='info', description='Progress:', layout=Layout(height='25px', width='50%'),…"
      ]
     },
     "metadata": {},
     "output_type": "display_data"
    },
    {
     "name": "stdout",
     "output_type": "stream",
     "text": [
      "+----------+------+------------------+----------+\n",
      "|Trade_Date|Ticker|             Close|    Volume|\n",
      "+----------+------+------------------+----------+\n",
      "|2020-01-02|    sq| 63.83000183105469| 5264700.0|\n",
      "|2020-01-02|  aapl|  75.0875015258789|1.354804E8|\n",
      "|2020-01-02|  amzn| 1898.010009765625| 4029000.0|\n",
      "|2020-01-02|     m|16.520000457763672| 2.63881E7|\n",
      "|2020-01-02|  tsla|   86.052001953125| 4.76605E7|\n",
      "|2020-01-02|  msft| 160.6199951171875| 2.26221E7|\n",
      "|2020-01-02|    ge|11.930000305175781| 8.74218E7|\n",
      "+----------+------+------------------+----------+\n",
      "only showing top 7 rows"
     ]
    }
   ],
   "source": [
    "df = spark.read.csv(\"s3://\" + databucket + \"/data/stock_prices.csv\", header=True, inferSchema=True).select(\"Trade_Date\", \"Ticker\", \"Close\", \"Volume\")\n",
    "df.sort(df.Trade_Date, ascending=True).show(7)"
   ]
  },
  {
   "cell_type": "code",
   "execution_count": 6,
   "id": "088ed0fa",
   "metadata": {},
   "outputs": [
    {
     "data": {
      "application/vnd.jupyter.widget-view+json": {
       "model_id": "33240495c74b4a9e88a4a9cd32a61b13",
       "version_major": 2,
       "version_minor": 0
      },
      "text/plain": [
       "VBox()"
      ]
     },
     "metadata": {},
     "output_type": "display_data"
    },
    {
     "data": {
      "application/vnd.jupyter.widget-view+json": {
       "model_id": "",
       "version_major": 2,
       "version_minor": 0
      },
      "text/plain": [
       "FloatProgress(value=0.0, bar_style='info', description='Progress:', layout=Layout(height='25px', width='50%'),…"
      ]
     },
     "metadata": {},
     "output_type": "display_data"
    },
    {
     "name": "stdout",
     "output_type": "stream",
     "text": [
      "'Total number of stocks records: 1771'"
     ]
    }
   ],
   "source": [
    "(\"Total number of stocks records: \" + str(df.count()))"
   ]
  },
  {
   "cell_type": "code",
   "execution_count": 7,
   "id": "29d95a6f",
   "metadata": {},
   "outputs": [
    {
     "data": {
      "application/vnd.jupyter.widget-view+json": {
       "model_id": "31d75fcf422344d3ad10977634468c02",
       "version_major": 2,
       "version_minor": 0
      },
      "text/plain": [
       "VBox()"
      ]
     },
     "metadata": {},
     "output_type": "display_data"
    },
    {
     "data": {
      "application/vnd.jupyter.widget-view+json": {
       "model_id": "",
       "version_major": 2,
       "version_minor": 0
      },
      "text/plain": [
       "FloatProgress(value=0.0, bar_style='info', description='Progress:', layout=Layout(height='25px', width='50%'),…"
      ]
     },
     "metadata": {},
     "output_type": "display_data"
    },
    {
     "name": "stdout",
     "output_type": "stream",
     "text": [
      "+----------+------+------------------+----------+\n",
      "|Trade_Date|Ticker|             Close|    Volume|\n",
      "+----------+------+------------------+----------+\n",
      "|2020-02-28|  aapl| 68.33999633789062|  4.2651E8|\n",
      "|2020-03-12|  aapl|62.057498931884766| 4.18474E8|\n",
      "|2020-03-20|  aapl|57.310001373291016|4.016932E8|\n",
      "|2020-07-31|  aapl|106.26000213623047|3.743368E8|\n",
      "|2020-03-13|  aapl| 69.49250030517578| 3.70732E8|\n",
      "|2020-08-24|  aapl|125.85749816894531|3.459376E8|\n",
      "|2020-03-02|  aapl| 74.70249938964844|3.413972E8|\n",
      "|2020-08-21|  aapl|124.37000274658203|3.380548E8|\n",
      "|2020-03-23|  aapl|56.092498779296875|3.367528E8|\n",
      "|2020-09-04|  aapl|120.95999908447266|3.326072E8|\n",
      "+----------+------+------------------+----------+\n",
      "only showing top 10 rows"
     ]
    }
   ],
   "source": [
    "dfVol = df.filter(df.Volume > 10000000).sort(df.Volume, ascending=False)\n",
    "dfVol.show(10)"
   ]
  },
  {
   "cell_type": "code",
   "execution_count": 8,
   "id": "eb5865f1",
   "metadata": {},
   "outputs": [
    {
     "data": {
      "application/vnd.jupyter.widget-view+json": {
       "model_id": "f78908441d6e41e4a43b9a7089012f9c",
       "version_major": 2,
       "version_minor": 0
      },
      "text/plain": [
       "VBox()"
      ]
     },
     "metadata": {},
     "output_type": "display_data"
    },
    {
     "data": {
      "application/vnd.jupyter.widget-view+json": {
       "model_id": "",
       "version_major": 2,
       "version_minor": 0
      },
      "text/plain": [
       "FloatProgress(value=0.0, bar_style='info', description='Progress:', layout=Layout(height='25px', width='50%'),…"
      ]
     },
     "metadata": {},
     "output_type": "display_data"
    }
   ],
   "source": [
    "df.createOrReplaceTempView(\"stockprice\")"
   ]
  },
  {
   "cell_type": "code",
   "execution_count": 9,
   "id": "64063ac1",
   "metadata": {},
   "outputs": [
    {
     "data": {
      "application/vnd.jupyter.widget-view+json": {
       "model_id": "f59efb720ce74f8689139cf2132d89b0",
       "version_major": 2,
       "version_minor": 0
      },
      "text/plain": [
       "VBox()"
      ]
     },
     "metadata": {},
     "output_type": "display_data"
    },
    {
     "data": {
      "application/vnd.jupyter.widget-view+json": {
       "model_id": "",
       "version_major": 2,
       "version_minor": 0
      },
      "text/plain": [
       "FloatProgress(value=0.0, bar_style='info', description='Progress:', layout=Layout(height='25px', width='50%'),…"
      ]
     },
     "metadata": {},
     "output_type": "display_data"
    },
    {
     "name": "stdout",
     "output_type": "stream",
     "text": [
      "+----------+------+-------------+----------+\n",
      "|Trade_Date|Ticker|Closing_Value|    Volume|\n",
      "+----------+------+-------------+----------+\n",
      "|2020-12-18|  tsla|        695.0|2.221262E8|\n",
      "|2020-12-31|  tsla|       705.67| 4.96499E7|\n",
      "|2020-12-30|  tsla|       694.78|  4.2846E7|\n",
      "|2020-12-28|  tsla|       663.69| 3.22786E7|\n",
      "|2020-12-29|  tsla|       665.99| 2.29108E7|\n",
      "|2020-01-31|  amzn|      2008.72| 1.55673E7|\n",
      "|2020-04-16|  amzn|      2408.19| 1.20382E7|\n",
      "|2020-03-12|  amzn|      1676.61| 1.13462E7|\n",
      "|2020-03-17|  amzn|      1807.84| 1.09171E7|\n",
      "|2020-03-19|  amzn|      1880.93| 1.03999E7|\n",
      "+----------+------+-------------+----------+"
     ]
    }
   ],
   "source": [
    "dfSql = spark.sql(\"SELECT Trade_Date, Ticker, round(DOUBLE(Close),2) AS Closing_Value, Volume  FROM stockprice WHERE Volume > 10000000 ORDER BY Close DESC LIMIT 10\")\n",
    "dfSql.sort(dfSql.Volume, ascending=False).show()\n"
   ]
  },
  {
   "cell_type": "markdown",
   "id": "2b9426b8",
   "metadata": {},
   "source": [
    "Movie Analysis"
   ]
  },
  {
   "cell_type": "code",
   "execution_count": 10,
   "id": "c4420944",
   "metadata": {},
   "outputs": [
    {
     "data": {
      "application/vnd.jupyter.widget-view+json": {
       "model_id": "65557af423e049fa802ab86218e5f28c",
       "version_major": 2,
       "version_minor": 0
      },
      "text/plain": [
       "VBox()"
      ]
     },
     "metadata": {},
     "output_type": "display_data"
    },
    {
     "data": {
      "application/vnd.jupyter.widget-view+json": {
       "model_id": "",
       "version_major": 2,
       "version_minor": 0
      },
      "text/plain": [
       "FloatProgress(value=0.0, bar_style='info', description='Progress:', layout=Layout(height='25px', width='50%'),…"
      ]
     },
     "metadata": {},
     "output_type": "display_data"
    }
   ],
   "source": [
    "spark = SparkSession.builder.appName(\"movie-summary\").getOrCreate()"
   ]
  },
  {
   "cell_type": "code",
   "execution_count": 11,
   "id": "bdc28842",
   "metadata": {},
   "outputs": [
    {
     "data": {
      "application/vnd.jupyter.widget-view+json": {
       "model_id": "72720b9a10954e5a9dbe1040b7f285fb",
       "version_major": 2,
       "version_minor": 0
      },
      "text/plain": [
       "VBox()"
      ]
     },
     "metadata": {},
     "output_type": "display_data"
    },
    {
     "data": {
      "application/vnd.jupyter.widget-view+json": {
       "model_id": "",
       "version_major": 2,
       "version_minor": 0
      },
      "text/plain": [
       "FloatProgress(value=0.0, bar_style='info', description='Progress:', layout=Layout(height='25px', width='50%'),…"
      ]
     },
     "metadata": {},
     "output_type": "display_data"
    }
   ],
   "source": [
    "df_challenge = spark.read.csv(\"s3://challengebucket-us-east-1-407925949/data/movies.csv\", header=True, inferSchema=True).select('year', 'title', 'directors_0', 'rating', 'actors_0', 'actors_1', 'actors_2')"
   ]
  },
  {
   "cell_type": "code",
   "execution_count": 12,
   "id": "15090735",
   "metadata": {},
   "outputs": [
    {
     "data": {
      "application/vnd.jupyter.widget-view+json": {
       "model_id": "39ee1fcdd49840ed92beae9b296cdba5",
       "version_major": 2,
       "version_minor": 0
      },
      "text/plain": [
       "VBox()"
      ]
     },
     "metadata": {},
     "output_type": "display_data"
    },
    {
     "data": {
      "application/vnd.jupyter.widget-view+json": {
       "model_id": "",
       "version_major": 2,
       "version_minor": 0
      },
      "text/plain": [
       "FloatProgress(value=0.0, bar_style='info', description='Progress:', layout=Layout(height='25px', width='50%'),…"
      ]
     },
     "metadata": {},
     "output_type": "display_data"
    },
    {
     "name": "stdout",
     "output_type": "stream",
     "text": [
      "+----+--------------------+------------------+------+-----------------+-------------------+------------------+\n",
      "|year|               title|       directors_0|rating|         actors_0|           actors_1|          actors_2|\n",
      "+----+--------------------+------------------+------+-----------------+-------------------+------------------+\n",
      "|1976|The Little Girl W...|   Nicolas Gessner|   7.0|     Jodie Foster|       Martin Sheen|      Alexis Smith|\n",
      "|1976|        Bugsy Malone|       Alan Parker|   6.5|     Jodie Foster|         Scott Baio|    Florrie Dugger|\n",
      "|1991|The Silence of th...|    Jonathan Demme|   8.7|     Jodie Foster|    Anthony Hopkins|Lawrence A. Bonney|\n",
      "|1994|                Nell|     Michael Apted|   6.3|     Jodie Foster|        Liam Neeson|Natasha Richardson|\n",
      "|1994|            Maverick|    Richard Donner|   6.9|       Mel Gibson|       Jodie Foster|      James Garner|\n",
      "|1997|             Contact|   Robert Zemeckis|   7.3|     Jodie Foster|Matthew McConaughey|      Tom Skerritt|\n",
      "|1999|   Anna and the King|      Andy Tennant|   6.5|     Jodie Foster|       Yun-Fat Chow|          Bai Ling|\n",
      "|2002|          Panic Room|     David Fincher|   6.8|     Jodie Foster|    Kristen Stewart|   Forest Whitaker|\n",
      "|2004|Un long dimanche ...|Jean-Pierre Jeunet|   7.7|    Audrey Tautou|     Gaspard Ulliel|      Jodie Foster|\n",
      "|2005|          Flightplan|  Robert Schwentke|   6.1|     Jodie Foster|    Peter Sarsgaard|         Sean Bean|\n",
      "|2006|          Inside Man|         Spike Lee|   7.6|Denzel Washington|         Clive Owen|      Jodie Foster|\n",
      "|2007|       The Brave One|       Neil Jordan|   6.7|     Jodie Foster|    Terrence Howard|    Naveen Andrews|\n",
      "|2008|        Nim's Island| Jennifer Flackett|   5.9|     Jodie Foster|      Gerard Butler|   Abigail Breslin|\n",
      "|2011|             Carnage|    Roman Polanski|   7.1|     Jodie Foster|       Kate Winslet|   Christoph Waltz|\n",
      "|2011|          The Beaver|      Jodie Foster|   6.6|       Mel Gibson|       Jodie Foster|     Anton Yelchin|\n",
      "|2013|             Elysium|    Neill Blomkamp|   7.0|       Matt Damon|       Jodie Foster|    Sharlto Copley|\n",
      "+----+--------------------+------------------+------+-----------------+-------------------+------------------+"
     ]
    }
   ],
   "source": [
    "dfJodieFoster = df_challenge.filter((df_challenge.actors_0 == \"Jodie Foster\" ) | (df_challenge.actors_1 == \"Jodie Foster\") | (df_challenge.actors_2 == \"Jodie Foster\")).sort(df_challenge.year, ascending=True).show() "
   ]
  },
  {
   "cell_type": "code",
   "execution_count": null,
   "id": "9a8c2960",
   "metadata": {},
   "outputs": [],
   "source": []
  }
 ],
 "metadata": {
  "kernelspec": {
   "display_name": "PySpark",
   "language": "",
   "name": "pysparkkernel"
  },
  "language_info": {
   "codemirror_mode": {
    "name": "python",
    "version": 3
   },
   "mimetype": "text/x-python",
   "name": "pyspark",
   "pygments_lexer": "python3"
  }
 },
 "nbformat": 4,
 "nbformat_minor": 5
}
