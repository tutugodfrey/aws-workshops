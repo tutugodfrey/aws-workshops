{
 "cells": [
  {
   "cell_type": "code",
   "execution_count": 1,
   "id": "5e7ec552-3246-4454-b106-97186b677010",
   "metadata": {
    "execution": {
     "iopub.execute_input": "2023-04-23T22:14:50.535022Z",
     "iopub.status.busy": "2023-04-23T22:14:50.534715Z",
     "iopub.status.idle": "2023-04-23T22:15:48.423917Z",
     "shell.execute_reply": "2023-04-23T22:15:48.422730Z",
     "shell.execute_reply.started": "2023-04-23T22:14:50.534989Z"
    }
   },
   "outputs": [
    {
     "data": {
      "application/vnd.jupyter.widget-view+json": {
       "model_id": "cc24a8d606dd46788cddd6941d3c209c",
       "version_major": 2,
       "version_minor": 0
      },
      "text/plain": [
       "VBox()"
      ]
     },
     "metadata": {},
     "output_type": "display_data"
    },
    {
     "name": "stdout",
     "output_type": "stream",
     "text": [
      "Starting Spark application\n"
     ]
    },
    {
     "data": {
      "text/html": [
       "<table>\n",
       "<tr><th>ID</th><th>YARN Application ID</th><th>Kind</th><th>State</th><th>Spark UI</th><th>Driver log</th><th>Current session?</th></tr><tr><td>0</td><td>application_1682287062464_0001</td><td>pyspark</td><td>idle</td><td><a target=\"_blank\" href=\"http://ip-10-0-10-233.ec2.internal:20888/proxy/application_1682287062464_0001/\" class=\"emr-proxy-link\" emr-resource=\"j-3VSDN0SO32LXS\n",
       "\" application-id=\"application_1682287062464_0001\">Link</a></td><td><a target=\"_blank\" href=\"http://ip-10-0-10-198.ec2.internal:8042/node/containerlogs/container_1682287062464_0001_01_000001/livy\" >Link</a></td><td>✔</td></tr></table>"
      ],
      "text/plain": [
       "<IPython.core.display.HTML object>"
      ]
     },
     "metadata": {},
     "output_type": "display_data"
    },
    {
     "data": {
      "application/vnd.jupyter.widget-view+json": {
       "model_id": "",
       "version_major": 2,
       "version_minor": 0
      },
      "text/plain": [
       "FloatProgress(value=0.0, bar_style='info', description='Progress:', layout=Layout(height='25px', width='50%'),…"
      ]
     },
     "metadata": {},
     "output_type": "display_data"
    },
    {
     "name": "stdout",
     "output_type": "stream",
     "text": [
      "SparkSession available as 'spark'.\n"
     ]
    },
    {
     "data": {
      "application/vnd.jupyter.widget-view+json": {
       "model_id": "",
       "version_major": 2,
       "version_minor": 0
      },
      "text/plain": [
       "FloatProgress(value=0.0, bar_style='info', description='Progress:', layout=Layout(height='25px', width='50%'),…"
      ]
     },
     "metadata": {},
     "output_type": "display_data"
    }
   ],
   "source": [
    "import sys\n",
    "import time\n",
    "from pyspark.sql import SparkSession\n",
    "from pyspark.sql.functions import *\n",
    "from pyspark.sql.types import *"
   ]
  },
  {
   "cell_type": "code",
   "execution_count": 2,
   "id": "652b7e67-e97a-48d1-9292-cbbe2b716684",
   "metadata": {
    "execution": {
     "iopub.execute_input": "2023-04-23T22:16:36.565656Z",
     "iopub.status.busy": "2023-04-23T22:16:36.565149Z",
     "iopub.status.idle": "2023-04-23T22:16:39.709621Z",
     "shell.execute_reply": "2023-04-23T22:16:39.708556Z",
     "shell.execute_reply.started": "2023-04-23T22:16:36.565600Z"
    }
   },
   "outputs": [
    {
     "data": {
      "application/vnd.jupyter.widget-view+json": {
       "model_id": "8dc7bc4c491e4df4b35fa1447e519ac3",
       "version_major": 2,
       "version_minor": 0
      },
      "text/plain": [
       "VBox()"
      ]
     },
     "metadata": {},
     "output_type": "display_data"
    },
    {
     "data": {
      "application/vnd.jupyter.widget-view+json": {
       "model_id": "",
       "version_major": 2,
       "version_minor": 0
      },
      "text/plain": [
       "FloatProgress(value=0.0, bar_style='info', description='Progress:', layout=Layout(height='25px', width='50%'),…"
      ]
     },
     "metadata": {},
     "output_type": "display_data"
    }
   ],
   "source": [
    "spark = SparkSession.builder.appName(\"stock-summary\").getOrCreate()"
   ]
  },
  {
   "cell_type": "code",
   "execution_count": 3,
   "id": "1dbde0a7-f504-4e60-871a-c54d7fece33a",
   "metadata": {
    "execution": {
     "iopub.execute_input": "2023-04-23T22:17:58.545187Z",
     "iopub.status.busy": "2023-04-23T22:17:58.544903Z",
     "iopub.status.idle": "2023-04-23T22:17:58.680583Z",
     "shell.execute_reply": "2023-04-23T22:17:58.679528Z",
     "shell.execute_reply.started": "2023-04-23T22:17:58.545155Z"
    }
   },
   "outputs": [
    {
     "data": {
      "application/vnd.jupyter.widget-view+json": {
       "model_id": "42453948b00b49759ecb3cf68576c59d",
       "version_major": 2,
       "version_minor": 0
      },
      "text/plain": [
       "VBox()"
      ]
     },
     "metadata": {},
     "output_type": "display_data"
    },
    {
     "data": {
      "application/vnd.jupyter.widget-view+json": {
       "model_id": "",
       "version_major": 2,
       "version_minor": 0
      },
      "text/plain": [
       "FloatProgress(value=0.0, bar_style='info', description='Progress:', layout=Layout(height='25px', width='50%'),…"
      ]
     },
     "metadata": {},
     "output_type": "display_data"
    }
   ],
   "source": [
    "dataBucket = 'databucket-us-east-1-051015075'"
   ]
  },
  {
   "cell_type": "code",
   "execution_count": 5,
   "id": "33c8ed28-a06f-4190-83ce-9d236dc1780f",
   "metadata": {
    "execution": {
     "iopub.execute_input": "2023-04-23T22:20:47.214986Z",
     "iopub.status.busy": "2023-04-23T22:20:47.214676Z",
     "iopub.status.idle": "2023-04-23T22:21:12.937380Z",
     "shell.execute_reply": "2023-04-23T22:21:12.936220Z",
     "shell.execute_reply.started": "2023-04-23T22:20:47.214952Z"
    },
    "tags": []
   },
   "outputs": [
    {
     "data": {
      "application/vnd.jupyter.widget-view+json": {
       "model_id": "ccac5e53d9fb4e1a9a79feaabab29549",
       "version_major": 2,
       "version_minor": 0
      },
      "text/plain": [
       "VBox()"
      ]
     },
     "metadata": {},
     "output_type": "display_data"
    },
    {
     "data": {
      "application/vnd.jupyter.widget-view+json": {
       "model_id": "",
       "version_major": 2,
       "version_minor": 0
      },
      "text/plain": [
       "FloatProgress(value=0.0, bar_style='info', description='Progress:', layout=Layout(height='25px', width='50%'),…"
      ]
     },
     "metadata": {},
     "output_type": "display_data"
    },
    {
     "name": "stdout",
     "output_type": "stream",
     "text": [
      "+----------+------+------------------+----------+\n",
      "|Trade_Date|Ticker|             Close|    Volume|\n",
      "+----------+------+------------------+----------+\n",
      "|2020-01-02|  tsla|   86.052001953125| 4.76605E7|\n",
      "|2020-01-02|  aapl|  75.0875015258789|1.354804E8|\n",
      "|2020-01-02|  msft| 160.6199951171875| 2.26221E7|\n",
      "|2020-01-02|    ge|11.930000305175781| 8.74218E7|\n",
      "|2020-01-02|    sq| 63.83000183105469| 5264700.0|\n",
      "|2020-01-02|  amzn| 1898.010009765625| 4029000.0|\n",
      "|2020-01-02|     m|16.520000457763672| 2.63881E7|\n",
      "|2020-01-03|  amzn| 1874.969970703125| 3764400.0|\n",
      "|2020-01-03|  tsla| 88.60199737548828| 8.88925E7|\n",
      "|2020-01-03|     m|16.530000686645508| 1.20261E7|\n",
      "|2020-01-03|  aapl| 74.35749816894531|1.463228E8|\n",
      "|2020-01-03|    sq|              63.0| 5087100.0|\n",
      "|2020-01-03|  msft| 158.6199951171875| 2.11162E7|\n",
      "|2020-01-03|    ge|11.970000267028809| 8.58858E7|\n",
      "|2020-01-06|  aapl| 74.94999694824219|1.183872E8|\n",
      "|2020-01-06|  amzn|1902.8800048828125| 4061800.0|\n",
      "|2020-01-06|    sq| 62.56999969482422| 5905200.0|\n",
      "|2020-01-06|  tsla| 90.30799865722656|  5.0665E7|\n",
      "|2020-01-06|    ge|12.140000343322754|1.119487E8|\n",
      "|2020-01-06|  msft|159.02999877929688| 2.08137E7|\n",
      "+----------+------+------------------+----------+\n",
      "only showing top 20 rows"
     ]
    }
   ],
   "source": [
    "df = spark.read.csv(\"s3://\"+dataBucket+\"/data/stock_prices.csv\", header=True, inferSchema=True).select(\"Trade_Date\", \"Ticker\", \"Close\", \"Volume\")\n",
    "df.sort(df.Trade_Date, ascending=True).show()"
   ]
  },
  {
   "cell_type": "code",
   "execution_count": null,
   "id": "8b635907-f03c-48c4-93c1-172500f113c7",
   "metadata": {},
   "outputs": [],
   "source": []
  },
  {
   "cell_type": "code",
   "execution_count": null,
   "id": "db6bb870-34e4-42ee-8f25-6590e8df8f86",
   "metadata": {},
   "outputs": [],
   "source": []
  },
  {
   "cell_type": "code",
   "execution_count": 6,
   "id": "2512f9eb-31f4-40b8-9b3e-f2f9a45d079f",
   "metadata": {
    "execution": {
     "iopub.execute_input": "2023-04-23T22:22:51.055041Z",
     "iopub.status.busy": "2023-04-23T22:22:51.054755Z",
     "iopub.status.idle": "2023-04-23T22:23:04.612224Z",
     "shell.execute_reply": "2023-04-23T22:23:04.611208Z",
     "shell.execute_reply.started": "2023-04-23T22:22:51.055009Z"
    }
   },
   "outputs": [
    {
     "data": {
      "application/vnd.jupyter.widget-view+json": {
       "model_id": "2a10ef6b4a91419e85ba9c0d5f336e82",
       "version_major": 2,
       "version_minor": 0
      },
      "text/plain": [
       "VBox()"
      ]
     },
     "metadata": {},
     "output_type": "display_data"
    },
    {
     "data": {
      "application/vnd.jupyter.widget-view+json": {
       "model_id": "",
       "version_major": 2,
       "version_minor": 0
      },
      "text/plain": [
       "FloatProgress(value=0.0, bar_style='info', description='Progress:', layout=Layout(height='25px', width='50%'),…"
      ]
     },
     "metadata": {},
     "output_type": "display_data"
    },
    {
     "name": "stdout",
     "output_type": "stream",
     "text": [
      "'Total number of stocks records: 1771'"
     ]
    }
   ],
   "source": [
    "(\"Total number of stocks records: \" + str(df.count()))"
   ]
  },
  {
   "cell_type": "code",
   "execution_count": 7,
   "id": "4411d27d-d56c-4463-b1d1-b3182f681b4c",
   "metadata": {
    "execution": {
     "iopub.execute_input": "2023-04-23T22:24:15.396337Z",
     "iopub.status.busy": "2023-04-23T22:24:15.395921Z",
     "iopub.status.idle": "2023-04-23T22:24:28.978096Z",
     "shell.execute_reply": "2023-04-23T22:24:28.976569Z",
     "shell.execute_reply.started": "2023-04-23T22:24:15.396286Z"
    }
   },
   "outputs": [
    {
     "data": {
      "application/vnd.jupyter.widget-view+json": {
       "model_id": "501390b671bb49a1a747893991c64aee",
       "version_major": 2,
       "version_minor": 0
      },
      "text/plain": [
       "VBox()"
      ]
     },
     "metadata": {},
     "output_type": "display_data"
    },
    {
     "data": {
      "application/vnd.jupyter.widget-view+json": {
       "model_id": "",
       "version_major": 2,
       "version_minor": 0
      },
      "text/plain": [
       "FloatProgress(value=0.0, bar_style='info', description='Progress:', layout=Layout(height='25px', width='50%'),…"
      ]
     },
     "metadata": {},
     "output_type": "display_data"
    },
    {
     "name": "stdout",
     "output_type": "stream",
     "text": [
      "+----------+------+------------------+----------+\n",
      "|Trade_Date|Ticker|             Close|    Volume|\n",
      "+----------+------+------------------+----------+\n",
      "|2020-02-28|  aapl| 68.33999633789062|  4.2651E8|\n",
      "|2020-03-12|  aapl|62.057498931884766| 4.18474E8|\n",
      "|2020-03-20|  aapl|57.310001373291016|4.016932E8|\n",
      "|2020-07-31|  aapl|106.26000213623047|3.743368E8|\n",
      "|2020-03-13|  aapl| 69.49250030517578| 3.70732E8|\n",
      "|2020-08-24|  aapl|125.85749816894531|3.459376E8|\n",
      "|2020-03-02|  aapl| 74.70249938964844|3.413972E8|\n",
      "|2020-08-21|  aapl|124.37000274658203|3.380548E8|\n",
      "|2020-03-23|  aapl|56.092498779296875|3.367528E8|\n",
      "|2020-09-04|  aapl|120.95999908447266|3.326072E8|\n",
      "+----------+------+------------------+----------+\n",
      "only showing top 10 rows"
     ]
    }
   ],
   "source": [
    "dfVol = df.filter((df.Volume > 10000000)).sort(df.Volume, ascending=False)\n",
    "dfVol.show(10)"
   ]
  },
  {
   "cell_type": "code",
   "execution_count": 8,
   "id": "20b58cb4-fc74-4022-8204-90ad0894368c",
   "metadata": {
    "execution": {
     "iopub.execute_input": "2023-04-23T22:25:26.365020Z",
     "iopub.status.busy": "2023-04-23T22:25:26.364737Z",
     "iopub.status.idle": "2023-04-23T22:25:27.224330Z",
     "shell.execute_reply": "2023-04-23T22:25:27.222893Z",
     "shell.execute_reply.started": "2023-04-23T22:25:26.364988Z"
    }
   },
   "outputs": [
    {
     "data": {
      "application/vnd.jupyter.widget-view+json": {
       "model_id": "0aab47b1739b4169b1b3c9aa364f0443",
       "version_major": 2,
       "version_minor": 0
      },
      "text/plain": [
       "VBox()"
      ]
     },
     "metadata": {},
     "output_type": "display_data"
    },
    {
     "data": {
      "application/vnd.jupyter.widget-view+json": {
       "model_id": "",
       "version_major": 2,
       "version_minor": 0
      },
      "text/plain": [
       "FloatProgress(value=0.0, bar_style='info', description='Progress:', layout=Layout(height='25px', width='50%'),…"
      ]
     },
     "metadata": {},
     "output_type": "display_data"
    }
   ],
   "source": [
    "df.createOrReplaceTempView(\"stockprice\")"
   ]
  },
  {
   "cell_type": "code",
   "execution_count": 10,
   "id": "f3cac837-3652-4b31-8250-c2dd3148b9ec",
   "metadata": {
    "execution": {
     "iopub.execute_input": "2023-04-23T22:28:29.184943Z",
     "iopub.status.busy": "2023-04-23T22:28:29.184654Z",
     "iopub.status.idle": "2023-04-23T22:28:29.534067Z",
     "shell.execute_reply": "2023-04-23T22:28:29.533138Z",
     "shell.execute_reply.started": "2023-04-23T22:28:29.184910Z"
    },
    "tags": []
   },
   "outputs": [
    {
     "data": {
      "application/vnd.jupyter.widget-view+json": {
       "model_id": "6a12858db694410bba15bb4ab8ac2ddd",
       "version_major": 2,
       "version_minor": 0
      },
      "text/plain": [
       "VBox()"
      ]
     },
     "metadata": {},
     "output_type": "display_data"
    },
    {
     "data": {
      "application/vnd.jupyter.widget-view+json": {
       "model_id": "",
       "version_major": 2,
       "version_minor": 0
      },
      "text/plain": [
       "FloatProgress(value=0.0, bar_style='info', description='Progress:', layout=Layout(height='25px', width='50%'),…"
      ]
     },
     "metadata": {},
     "output_type": "display_data"
    }
   ],
   "source": [
    "dfSql = spark.sql(\"SELECT Trade_Date, Ticker, round(DOUBLE(close),2) AS Closing_Value, Volume FROM stockprice WHERE Volume > 10000000 ORDER BY Close DESC LIMIT 10\")"
   ]
  },
  {
   "cell_type": "code",
   "execution_count": 11,
   "id": "ced82163-477b-42e8-81e7-4e925e22db5f",
   "metadata": {
    "execution": {
     "iopub.execute_input": "2023-04-23T22:29:07.284959Z",
     "iopub.status.busy": "2023-04-23T22:29:07.284675Z",
     "iopub.status.idle": "2023-04-23T22:29:22.796874Z",
     "shell.execute_reply": "2023-04-23T22:29:22.795876Z",
     "shell.execute_reply.started": "2023-04-23T22:29:07.284927Z"
    }
   },
   "outputs": [
    {
     "data": {
      "application/vnd.jupyter.widget-view+json": {
       "model_id": "13fd1a96da34480495d46c925cd0e977",
       "version_major": 2,
       "version_minor": 0
      },
      "text/plain": [
       "VBox()"
      ]
     },
     "metadata": {},
     "output_type": "display_data"
    },
    {
     "data": {
      "application/vnd.jupyter.widget-view+json": {
       "model_id": "",
       "version_major": 2,
       "version_minor": 0
      },
      "text/plain": [
       "FloatProgress(value=0.0, bar_style='info', description='Progress:', layout=Layout(height='25px', width='50%'),…"
      ]
     },
     "metadata": {},
     "output_type": "display_data"
    },
    {
     "name": "stdout",
     "output_type": "stream",
     "text": [
      "+----------+------+-------------+----------+\n",
      "|Trade_Date|Ticker|Closing_Value|    Volume|\n",
      "+----------+------+-------------+----------+\n",
      "|2020-12-18|  tsla|        695.0|2.221262E8|\n",
      "|2020-12-31|  tsla|       705.67| 4.96499E7|\n",
      "|2020-12-30|  tsla|       694.78|  4.2846E7|\n",
      "|2020-12-28|  tsla|       663.69| 3.22786E7|\n",
      "|2020-12-29|  tsla|       665.99| 2.29108E7|\n",
      "|2020-01-31|  amzn|      2008.72| 1.55673E7|\n",
      "|2020-04-16|  amzn|      2408.19| 1.20382E7|\n",
      "|2020-03-12|  amzn|      1676.61| 1.13462E7|\n",
      "|2020-03-17|  amzn|      1807.84| 1.09171E7|\n",
      "|2020-03-19|  amzn|      1880.93| 1.03999E7|\n",
      "+----------+------+-------------+----------+"
     ]
    }
   ],
   "source": [
    "dfSql.sort(dfSql.Volume, ascending=False).show()"
   ]
  },
  {
   "cell_type": "markdown",
   "id": "7768dcc0-621a-4f82-ab34-8c58c3fb2131",
   "metadata": {},
   "source": [
    "Challenge - Analyze movie data with Spark"
   ]
  },
  {
   "cell_type": "code",
   "execution_count": 12,
   "id": "5e2eda69-1b38-4542-b16a-986493d32c6f",
   "metadata": {
    "execution": {
     "iopub.execute_input": "2023-04-23T22:31:56.805420Z",
     "iopub.status.busy": "2023-04-23T22:31:56.805114Z",
     "iopub.status.idle": "2023-04-23T22:31:56.952702Z",
     "shell.execute_reply": "2023-04-23T22:31:56.947968Z",
     "shell.execute_reply.started": "2023-04-23T22:31:56.805364Z"
    }
   },
   "outputs": [
    {
     "data": {
      "application/vnd.jupyter.widget-view+json": {
       "model_id": "c929f07008bf4e01a37ab714aa68d36a",
       "version_major": 2,
       "version_minor": 0
      },
      "text/plain": [
       "VBox()"
      ]
     },
     "metadata": {},
     "output_type": "display_data"
    },
    {
     "data": {
      "application/vnd.jupyter.widget-view+json": {
       "model_id": "",
       "version_major": 2,
       "version_minor": 0
      },
      "text/plain": [
       "FloatProgress(value=0.0, bar_style='info', description='Progress:', layout=Layout(height='25px', width='50%'),…"
      ]
     },
     "metadata": {},
     "output_type": "display_data"
    }
   ],
   "source": [
    "sparkmv = SparkSession.builder.appName(\"movie-summary\").getOrCreate()"
   ]
  },
  {
   "cell_type": "code",
   "execution_count": 13,
   "id": "3d66d643-d45d-4582-ba77-5ed6911fa27a",
   "metadata": {
    "execution": {
     "iopub.execute_input": "2023-04-23T22:32:40.364910Z",
     "iopub.status.busy": "2023-04-23T22:32:40.364607Z",
     "iopub.status.idle": "2023-04-23T22:32:40.497187Z",
     "shell.execute_reply": "2023-04-23T22:32:40.495925Z",
     "shell.execute_reply.started": "2023-04-23T22:32:40.364876Z"
    }
   },
   "outputs": [
    {
     "data": {
      "application/vnd.jupyter.widget-view+json": {
       "model_id": "9c259347e8c442a4932f403f884140f0",
       "version_major": 2,
       "version_minor": 0
      },
      "text/plain": [
       "VBox()"
      ]
     },
     "metadata": {},
     "output_type": "display_data"
    },
    {
     "data": {
      "application/vnd.jupyter.widget-view+json": {
       "model_id": "",
       "version_major": 2,
       "version_minor": 0
      },
      "text/plain": [
       "FloatProgress(value=0.0, bar_style='info', description='Progress:', layout=Layout(height='25px', width='50%'),…"
      ]
     },
     "metadata": {},
     "output_type": "display_data"
    }
   ],
   "source": [
    "challengeBucket = 'challengebucket-us-east-1-051015075'"
   ]
  },
  {
   "cell_type": "code",
   "execution_count": 15,
   "id": "559f60d6-663d-40ba-a9ca-a8b19888c263",
   "metadata": {
    "execution": {
     "iopub.execute_input": "2023-04-23T22:37:27.129958Z",
     "iopub.status.busy": "2023-04-23T22:37:27.129584Z",
     "iopub.status.idle": "2023-04-23T22:37:42.615020Z",
     "shell.execute_reply": "2023-04-23T22:37:42.614125Z",
     "shell.execute_reply.started": "2023-04-23T22:37:27.129925Z"
    },
    "tags": []
   },
   "outputs": [
    {
     "data": {
      "application/vnd.jupyter.widget-view+json": {
       "model_id": "0136443a4b124ee583a38d5108645a43",
       "version_major": 2,
       "version_minor": 0
      },
      "text/plain": [
       "VBox()"
      ]
     },
     "metadata": {},
     "output_type": "display_data"
    },
    {
     "data": {
      "application/vnd.jupyter.widget-view+json": {
       "model_id": "",
       "version_major": 2,
       "version_minor": 0
      },
      "text/plain": [
       "FloatProgress(value=0.0, bar_style='info', description='Progress:', layout=Layout(height='25px', width='50%'),…"
      ]
     },
     "metadata": {},
     "output_type": "display_data"
    }
   ],
   "source": [
    "df_challenge = sparkmv.read.csv(\"s3://\"+challengeBucket+\"/data/movies.csv\", header=True, inferSchema=True).select('year','title','directors_0','rating','actors_0','actors_1','actors_2')"
   ]
  },
  {
   "cell_type": "code",
   "execution_count": 17,
   "id": "9e16c06b-18da-469b-8849-e0ff9494eda6",
   "metadata": {
    "execution": {
     "iopub.execute_input": "2023-04-23T22:41:26.234872Z",
     "iopub.status.busy": "2023-04-23T22:41:26.234548Z",
     "iopub.status.idle": "2023-04-23T22:41:39.700847Z",
     "shell.execute_reply": "2023-04-23T22:41:39.699932Z",
     "shell.execute_reply.started": "2023-04-23T22:41:26.234838Z"
    },
    "tags": []
   },
   "outputs": [
    {
     "data": {
      "application/vnd.jupyter.widget-view+json": {
       "model_id": "93c3891ff8bc4d0695c02d525a9bd16b",
       "version_major": 2,
       "version_minor": 0
      },
      "text/plain": [
       "VBox()"
      ]
     },
     "metadata": {},
     "output_type": "display_data"
    },
    {
     "data": {
      "application/vnd.jupyter.widget-view+json": {
       "model_id": "",
       "version_major": 2,
       "version_minor": 0
      },
      "text/plain": [
       "FloatProgress(value=0.0, bar_style='info', description='Progress:', layout=Layout(height='25px', width='50%'),…"
      ]
     },
     "metadata": {},
     "output_type": "display_data"
    },
    {
     "name": "stdout",
     "output_type": "stream",
     "text": [
      "+----+--------------------+------------------+------+-----------------+-------------------+------------------+\n",
      "|year|               title|       directors_0|rating|         actors_0|           actors_1|          actors_2|\n",
      "+----+--------------------+------------------+------+-----------------+-------------------+------------------+\n",
      "|1976|The Little Girl W...|   Nicolas Gessner|   7.0|     Jodie Foster|       Martin Sheen|      Alexis Smith|\n",
      "|1976|        Bugsy Malone|       Alan Parker|   6.5|     Jodie Foster|         Scott Baio|    Florrie Dugger|\n",
      "|1991|The Silence of th...|    Jonathan Demme|   8.7|     Jodie Foster|    Anthony Hopkins|Lawrence A. Bonney|\n",
      "|1994|                Nell|     Michael Apted|   6.3|     Jodie Foster|        Liam Neeson|Natasha Richardson|\n",
      "|1994|            Maverick|    Richard Donner|   6.9|       Mel Gibson|       Jodie Foster|      James Garner|\n",
      "|1997|             Contact|   Robert Zemeckis|   7.3|     Jodie Foster|Matthew McConaughey|      Tom Skerritt|\n",
      "|1999|   Anna and the King|      Andy Tennant|   6.5|     Jodie Foster|       Yun-Fat Chow|          Bai Ling|\n",
      "|2002|          Panic Room|     David Fincher|   6.8|     Jodie Foster|    Kristen Stewart|   Forest Whitaker|\n",
      "|2004|Un long dimanche ...|Jean-Pierre Jeunet|   7.7|    Audrey Tautou|     Gaspard Ulliel|      Jodie Foster|\n",
      "|2005|          Flightplan|  Robert Schwentke|   6.1|     Jodie Foster|    Peter Sarsgaard|         Sean Bean|\n",
      "|2006|          Inside Man|         Spike Lee|   7.6|Denzel Washington|         Clive Owen|      Jodie Foster|\n",
      "|2007|       The Brave One|       Neil Jordan|   6.7|     Jodie Foster|    Terrence Howard|    Naveen Andrews|\n",
      "|2008|        Nim's Island| Jennifer Flackett|   5.9|     Jodie Foster|      Gerard Butler|   Abigail Breslin|\n",
      "|2011|             Carnage|    Roman Polanski|   7.1|     Jodie Foster|       Kate Winslet|   Christoph Waltz|\n",
      "|2011|          The Beaver|      Jodie Foster|   6.6|       Mel Gibson|       Jodie Foster|     Anton Yelchin|\n",
      "|2013|             Elysium|    Neill Blomkamp|   7.0|       Matt Damon|       Jodie Foster|    Sharlto Copley|\n",
      "+----+--------------------+------------------+------+-----------------+-------------------+------------------+"
     ]
    }
   ],
   "source": [
    "dfJodieFoster = df_challenge.filter((df_challenge.actors_0 == \"Jodie Foster\") | (df_challenge.actors_1 == \"Jodie Foster\") | (df_challenge.actors_2 == \"Jodie Foster\")).sort(df_challenge.year, ascending=True).show()"
   ]
  },
  {
   "cell_type": "code",
   "execution_count": null,
   "id": "1cf91c46-354e-4a61-bd02-27ddaa85e962",
   "metadata": {},
   "outputs": [],
   "source": []
  }
 ],
 "metadata": {
  "kernelspec": {
   "display_name": "PySpark",
   "language": "",
   "name": "pysparkkernel"
  },
  "language_info": {
   "codemirror_mode": {
    "name": "python",
    "version": 3
   },
   "mimetype": "text/x-python",
   "name": "pyspark",
   "pygments_lexer": "python3"
  }
 },
 "nbformat": 4,
 "nbformat_minor": 5
}
